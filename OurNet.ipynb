{
 "cells": [
  {
   "cell_type": "code",
   "execution_count": null,
   "metadata": {
    "colab": {},
    "colab_type": "code",
    "id": "0U3uUPkcCk6a"
   },
   "outputs": [],
   "source": [
    "import numpy as np\n",
    "import torch\n",
    "import torch.nn as nn\n",
    "import os\n",
    "import torch.optim as optim\n",
    "import pandas as pd\n",
    "import matplotlib.pyplot as plt\n",
    "from tqdm import tqdm\n",
    "import torchvision\n",
    "import torchvision.transforms as transforms\n",
    "from PIL import Image, ImageDraw\n",
    "from numpy import genfromtxt\n",
    "import skimage\n",
    "from skimage.transform import rotate\n",
    "from skimage.util import random_noise\n",
    "import copy\n",
    "from copy import deepcopy\n",
    "from matplotlib.font_manager import FontProperties\n",
    "from sklearn.model_selection import train_test_split\n",
    "from skimage import io\n",
    "from collections import OrderedDict\n",
    "from functools import partial\n",
    "from keras.preprocessing import image\n",
    "from keras.preprocessing.image import load_img"
   ]
  },
  {
   "cell_type": "code",
   "execution_count": null,
   "metadata": {
    "colab": {
     "base_uri": "https://localhost:8080/",
     "height": 359
    },
    "colab_type": "code",
    "id": "q2uzutxTCk6e",
    "outputId": "b5d0fd2b-29da-4e79-b82b-79be872d36b9"
   },
   "outputs": [],
   "source": [
    "filname = 'drive/My Drive/fer2013.csv'\n",
    "label_map = ['Anger', 'Disgust', 'Fear', 'Happy', 'Sad', 'Surprise', 'Neutral']\n",
    "names=['emotion','pixels','usage']\n",
    "df=pd.read_csv('drive/My Drive/fer2013.csv',names=names, na_filter=False)\n",
    "im=df['pixels']\n",
    "df.head(10)"
   ]
  },
  {
   "cell_type": "code",
   "execution_count": null,
   "metadata": {
    "colab": {},
    "colab_type": "code",
    "id": "Ox8DxpHUCk6g"
   },
   "outputs": [],
   "source": [
    "def getData(filname):\n",
    "    Y = []\n",
    "    X = []\n",
    "    train_set = []\n",
    "    first = True\n",
    "    for line in open(filname):\n",
    "        if first:\n",
    "            first = False\n",
    "        else:\n",
    "            row = line.split(',')\n",
    "            Y.append(int(row[0]))\n",
    "            X.append([int(p) for p in row[1].split()])\n",
    "\n",
    "    X, Y = np.array(X) / 255.0, np.array(Y)\n",
    "    \n",
    "    for i in range(len(X)):\n",
    "        train_set.append([X[i], Y[i]])\n",
    "        \n",
    "    return X, Y, train_set"
   ]
  },
  {
   "cell_type": "code",
   "execution_count": null,
   "metadata": {
    "colab": {
     "base_uri": "https://localhost:8080/",
     "height": 34
    },
    "colab_type": "code",
    "id": "btgYb3BYCk6j",
    "outputId": "67b1ed0c-2098-4763-b144-ae3b0d3312c7"
   },
   "outputs": [],
   "source": [
    "X, Y, train = getData(filname)\n",
    "num_class = len(set(Y))\n",
    "pic_size = 48\n",
    "chanels_num = 1\n",
    "print(num_class)"
   ]
  },
  {
   "cell_type": "code",
   "execution_count": null,
   "metadata": {
    "colab": {},
    "colab_type": "code",
    "id": "jYGvlwFjCk6l"
   },
   "outputs": [],
   "source": [
    "N, D = X.shape\n",
    "X = X.reshape(N, pic_size, pic_size, 1)\n",
    "X_train, X_test, y_train, y_test = train_test_split(X, Y, test_size=0.1, random_state=0)"
   ]
  },
  {
   "cell_type": "code",
   "execution_count": null,
   "metadata": {
    "colab": {},
    "colab_type": "code",
    "id": "7iWoDGvEqNeF"
   },
   "outputs": [],
   "source": [
    "final_train_data = []\n",
    "final_target_train = []\n",
    "for i in tqdm(range(X_train.shape[0])):\n",
    "    final_train_data.append(X_train[i])\n",
    "    final_train_data.append(rotate(X_train[i], angle=45, mode = 'wrap'))\n",
    "    final_train_data.append(np.fliplr(X_train[i]))\n",
    "    final_train_data.append(np.flipud(X_train[i]))\n",
    "    final_train_data.append(random_noise(X_train[i],var=0.2**2))\n",
    "    for j in range(5):\n",
    "        final_target_train.append(y_train[i])"
   ]
  },
  {
   "cell_type": "code",
   "execution_count": null,
   "metadata": {
    "colab": {},
    "colab_type": "code",
    "id": "6RJpM8qArJJy"
   },
   "outputs": [],
   "source": [
    "X_train = np.array(deepcopy(final_train_data))\n",
    "y_train = np.array(deepcopy(final_target_train))"
   ]
  },
  {
   "cell_type": "code",
   "execution_count": null,
   "metadata": {
    "colab": {},
    "colab_type": "code",
    "id": "KFWM79AQrpo1"
   },
   "outputs": [],
   "source": [
    "X_train = torch.Tensor(X_train)\n",
    "y_train = torch.Tensor(y_train).long()\n",
    "X_test = torch.Tensor(X_test)\n",
    "y_test = torch.Tensor(y_test).long()"
   ]
  },
  {
   "cell_type": "code",
   "execution_count": null,
   "metadata": {
    "colab": {},
    "colab_type": "code",
    "id": "4PEBWsZkg_AJ"
   },
   "outputs": [],
   "source": [
    "class LionSin(nn.Module):\n",
    "    def __init__(self):\n",
    "        super(LionSin, self).__init__()\n",
    "\n",
    "        self.features1 = nn.Sequential(\n",
    "            nn.Conv2d(1, 32, kernel_size = (5, 5), padding=2),\n",
    "            nn.ReLU(),\n",
    "            nn.Conv2d(32, 32, kernel_size = (5, 5), padding=2),\n",
    "            nn.ReLU(),\n",
    "            nn.BatchNorm2d(32),\n",
    "            nn.MaxPool2d((2, 2)),\n",
    "            nn.Dropout(0.25)\n",
    "        )\n",
    "        \n",
    "        self.features2 = nn.Sequential(\n",
    "            nn.Conv2d(32, 64, kernel_size = (3, 3), padding=1),\n",
    "            nn.ReLU(),\n",
    "            nn.Conv2d(64, 64, kernel_size = (3, 3), padding=1),\n",
    "            nn.ReLU(),\n",
    "            nn.BatchNorm2d(64),\n",
    "            nn.MaxPool2d((2, 2), stride = (2, 2)),\n",
    "            nn.Dropout(0.25)\n",
    "        )\n",
    "        \n",
    "        self._to_linear = 12 * 12 * 64\n",
    "\n",
    "        self.features3 = nn.Sequential(\n",
    "            nn.Linear(self._to_linear, 256),\n",
    "            nn.ReLU(),\n",
    "            nn.BatchNorm1d(256),\n",
    "            nn.Dropout(0.5),\n",
    "            nn.Linear(256, 7)\n",
    "        )\n",
    "\n",
    "    def forward(self, x):\n",
    "        x = self.features1(x)\n",
    "        x = self.features2(x)\n",
    "        x = x.view(-1, self._to_linear)\n",
    "        x = self.features3(x)\n",
    "        return x\n",
    "\n",
    "net = LionSin().cuda()\n",
    "optimizer = optim.Adam(net.parameters(), lr=0.0001)\n",
    "loss_function = nn.CrossEntropyLoss()\n",
    "PATH = 'OurNet.h5'\n",
    "load = False\n",
    "if (load):\n",
    "  net.load_state_dict(torch.load(PATH))"
   ]
  },
  {
   "cell_type": "code",
   "execution_count": null,
   "metadata": {
    "colab": {},
    "colab_type": "code",
    "id": "9v1b_4IwtPl2"
   },
   "outputs": [],
   "source": [
    "fig,ax = plt.subplots(nrows=1,ncols=5,figsize=(48,48))\n",
    "for i in range(5):\n",
    "    ax[i].imshow(X_train[i+5].view(48, 48))\n",
    "    ax[i].axis('off')"
   ]
  },
  {
   "cell_type": "code",
   "execution_count": null,
   "metadata": {
    "colab": {},
    "colab_type": "code",
    "id": "6LufE8hTCk6t",
    "scrolled": true
   },
   "outputs": [],
   "source": [
    "EPOCHS = 100\n",
    "batch_size = 100\n",
    "train_acc = [0] * EPOCHS\n",
    "train_loss = [0] * EPOCHS\n",
    "test_acc = [0] * EPOCHS\n",
    "test_loss = [0] * EPOCHS\n",
    "index = 0\n",
    "\n",
    "for epochs in range(EPOCHS):\n",
    "    correct1 = 0\n",
    "    total1 = 0\n",
    "    permutation = torch.randperm(X_train.size()[0])\n",
    "    for i in tqdm(range(0, len(X_train), batch_size)): \n",
    "        indices = permutation[i:i+batch_size]     \n",
    "        batch_X = X_train[indices].view(-1, 1, 48, 48).cuda()     \n",
    "        batch_y = y_train[indices].cuda()     \n",
    "        net.zero_grad()      \n",
    "        outputs = net(batch_X)\n",
    "        for j in range(len(outputs)):\n",
    "                ind = torch.argmax(outputs[j])\n",
    "                if (batch_y[j] == ind):\n",
    "                    correct1 += 1\n",
    "                total1 += 1   \n",
    "        loss = loss_function(outputs, batch_y)   \n",
    "        loss.backward()     \n",
    "        optimizer.step()  \n",
    "    print(f\"Epoch: {epochs}. Loss: {loss}\")\n",
    "    train_acc[index] = round(correct1 / total1, 3)\n",
    "    train_loss[index] = loss\n",
    "    correct = 0\n",
    "    total = 0\n",
    "    net.eval()\n",
    "    with torch.no_grad():\n",
    "        for new_i in tqdm(range(0, len(X_test), batch_size)):\n",
    "            real_class = y_test[new_i:new_i + batch_size].cuda()\n",
    "            batch_X = X_test[new_i:new_i + batch_size].view(-1, 1, 48, 48).cuda()\n",
    "            ans = net(batch_X)\n",
    "            loss = loss_function(ans, real_class)\n",
    "            for j in range(len(ans)):\n",
    "                ind = torch.argmax(ans[j])\n",
    "                if (real_class[j] == ind):\n",
    "                    correct += 1\n",
    "                total += 1\n",
    "    net.train()\n",
    "    test_acc[index] = round(correct/total, 3)\n",
    "    test_loss[index] = loss\n",
    "    index += 1\n",
    "\n",
    "torch.save(net.state_dict(), PATH)"
   ]
  },
  {
   "cell_type": "code",
   "execution_count": null,
   "metadata": {
    "colab": {},
    "colab_type": "code",
    "id": "G-5GaxYedU57"
   },
   "outputs": [],
   "source": [
    "list1 = [0] * EPOCHS\n",
    "for i in range(EPOCHS):\n",
    "  list1[i] = i\n",
    "font = FontProperties()\n",
    "font = FontProperties()\n",
    "font.set_family('serif')\n",
    "font.set_name('Times New Roman')\n",
    "font.set_style('italic')\n",
    "fig, ax = plt.subplots(figsize=(5, 3))\n",
    "fig.subplots_adjust(bottom=0.15, left=0.2)\n",
    "ax.plot(list1, train_acc, label = 'Train accuracy')\n",
    "ax.plot(list1, train_loss, label = 'Train loss')\n",
    "ax.set_xlabel('EPOCHS', fontproperties=font)\n",
    "plt.legend(loc='upper right')\n",
    "plt.show()"
   ]
  },
  {
   "cell_type": "code",
   "execution_count": null,
   "metadata": {
    "colab": {},
    "colab_type": "code",
    "id": "ZqUi-O1_Wygz"
   },
   "outputs": [],
   "source": [
    "font = FontProperties()\n",
    "font = FontProperties()\n",
    "font.set_family('serif')\n",
    "font.set_name('Times New Roman')\n",
    "font.set_style('italic')\n",
    "fig, ax = plt.subplots(figsize=(5, 3))\n",
    "fig.subplots_adjust(bottom=0.15, left=0.2)\n",
    "ax.plot(list1, test_acc, label = 'Test accuracy')\n",
    "ax.plot(list1, test_loss, label = 'Test loss')\n",
    "ax.set_xlabel('EPOCHS', fontproperties=font)\n",
    "plt.legend(loc='upper right')\n",
    "plt.show()"
   ]
  },
  {
   "cell_type": "code",
   "execution_count": null,
   "metadata": {
    "colab": {},
    "colab_type": "code",
    "id": "zkKuVpRHCk6x"
   },
   "outputs": [],
   "source": [
    "correct = 0\n",
    "total = 0\n",
    "ind = 0\n",
    "net.eval()\n",
    "with torch.no_grad():\n",
    "    for i in tqdm(range(0, len(X_train), batch_size)):\n",
    "        real_class = y_train[i:i + batch_size]\n",
    "        batch_X = X_train[i:i + batch_size].view(-1, 1, 48, 48).cuda()\n",
    "        ans = net(batch_X)\n",
    "        for j in range(len(ans)):\n",
    "            ind = torch.argmax(ans[j])\n",
    "            if (real_class[j] == ind):\n",
    "                correct += 1\n",
    "            total += 1\n",
    "print(\"Accuracy on train: \", round(correct/total, 3))\n",
    "net.train()"
   ]
  },
  {
   "cell_type": "code",
   "execution_count": null,
   "metadata": {
    "colab": {},
    "colab_type": "code",
    "id": "vTc4wL0NCk6z"
   },
   "outputs": [],
   "source": [
    "correct = 0\n",
    "total = 0\n",
    "ind = 0\n",
    "net.eval()\n",
    "with torch.no_grad():\n",
    "    for i in tqdm(range(0, len(X_test), batch_size)):\n",
    "        real_class = y_test[i:i + batch_size]\n",
    "        batch_X = X_test[i:i + batch_size].view(-1, 1, 48, 48).cuda()\n",
    "        ans = net(batch_X)\n",
    "        for j in range(len(ans)):\n",
    "            ind = torch.argmax(ans[j])\n",
    "            if (real_class[j] == ind):\n",
    "                correct += 1\n",
    "            total += 1\n",
    "print(\"Accuracy on test: \", round(correct/total, 3))\n",
    "net.train()"
   ]
  },
  {
   "cell_type": "code",
   "execution_count": null,
   "metadata": {
    "colab": {
     "base_uri": "https://localhost:8080/",
     "height": 34
    },
    "colab_type": "code",
    "id": "WY5pD9lRCk62",
    "outputId": "e77b6c53-dd42-47a8-9b97-4b5b1a08204d"
   },
   "outputs": [],
   "source": [
    "objects = ('angry', 'disgust', 'fear', 'happy', 'sad', 'surprise', 'neutral')\n",
    "y_pos = np.arange(len(objects))\n",
    "print(y_pos)"
   ]
  },
  {
   "cell_type": "code",
   "execution_count": null,
   "metadata": {
    "colab": {},
    "colab_type": "code",
    "id": "vArB109RCk64"
   },
   "outputs": [],
   "source": [
    "def emotion_analysis(emotions):\n",
    "    objects = ['angry', 'disgust', 'fear', 'happy', 'sad', 'surprise', 'neutral']\n",
    "    y_pos = np.arange(len(objects))\n",
    "    plt.bar(y_pos, emotions, align='center', alpha=0.9)\n",
    "    plt.tick_params(axis='x', which='both', pad=10,width=4,length=10)\n",
    "    plt.xticks(y_pos, objects)\n",
    "    plt.ylabel('percentage')\n",
    "    plt.title('emotion')\n",
    "    \n",
    "plt.show()"
   ]
  },
  {
   "cell_type": "code",
   "execution_count": null,
   "metadata": {
    "colab": {
     "base_uri": "https://localhost:8080/",
     "height": 365
    },
    "colab_type": "code",
    "id": "k_rOluw4Ck6_",
    "outputId": "fdfaf545-7f3c-4afa-8a5f-3f92b6ba6e49"
   },
   "outputs": [],
   "source": [
    "img = image.load_img('w.jpg', grayscale=True, target_size=(48, 48))\n",
    "show_img=image.load_img('w.jpg', grayscale=False, target_size=(200, 200))\n",
    "a = image.img_to_array(img)\n",
    "a = np.expand_dims(a, axis = 0)\n",
    "\n",
    "a /= 255\n",
    "\n",
    "x = [a, a]\n",
    "\n",
    "x = torch.Tensor(x).view(-1, 1, 48, 48).cuda()\n",
    "\n",
    "net.eval()\n",
    "custom = net(x)\n",
    "net.train()\n",
    "\n",
    "custom = custom.cpu().detach().numpy()\n",
    "\n",
    "emotion_analysis(custom[0])\n",
    "\n",
    "x = x[0].cpu().detach().numpy()\n",
    "\n",
    "x = np.array(x, 'float32')\n",
    "x = x.reshape([48, 48]);\n",
    "\n",
    "plt.gray()\n",
    "plt.imshow(show_img)\n",
    "plt.show()\n",
    "\n",
    "m=0.000000000000000000001\n",
    "a=custom[0]\n",
    "for i in range(0,len(a)):\n",
    "    if a[i]>m:\n",
    "        m=a[i]\n",
    "        ind=i\n",
    "        \n",
    "print('Expression Prediction:',objects[ind])"
   ]
  }
 ],
 "metadata": {
  "accelerator": "GPU",
  "colab": {
   "collapsed_sections": [],
   "name": "Escanor.ipynb",
   "provenance": []
  },
  "kernelspec": {
   "display_name": "Python 3",
   "language": "python",
   "name": "python3"
  },
  "language_info": {
   "codemirror_mode": {
    "name": "ipython",
    "version": 3
   },
   "file_extension": ".py",
   "mimetype": "text/x-python",
   "name": "python",
   "nbconvert_exporter": "python",
   "pygments_lexer": "ipython3",
   "version": "3.7.7"
  }
 },
 "nbformat": 4,
 "nbformat_minor": 1
}
