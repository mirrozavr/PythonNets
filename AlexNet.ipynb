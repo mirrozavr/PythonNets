{
  "nbformat": 4,
  "nbformat_minor": 0,
  "metadata": {
    "colab": {
      "name": "AlexNet.ipynb",
      "provenance": [],
      "collapsed_sections": []
    },
    "kernelspec": {
      "name": "python3",
      "display_name": "Python 3"
    },
    "accelerator": "GPU"
  },
  "cells": [
    {
      "cell_type": "code",
      "metadata": {
        "id": "a8zdALjazpzB",
        "colab_type": "code",
        "colab": {}
      },
      "source": [
        "import numpy as np\n",
        "import torch\n",
        "import torch.nn as nn\n",
        "import os\n",
        "import torch.optim as optim\n",
        "import pandas as pd\n",
        "import matplotlib.pyplot as plt\n",
        "from tqdm import tqdm\n",
        "import torchvision\n",
        "import torchvision.transforms as transforms\n",
        "from PIL import Image, ImageDraw\n",
        "from numpy import genfromtxt\n",
        "import skimage"
      ],
      "execution_count": 0,
      "outputs": []
    },
    {
      "cell_type": "code",
      "metadata": {
        "id": "mM841e0Z4bW1",
        "colab_type": "code",
        "outputId": "f5a587f6-8bfd-4418-ad05-7191726960a9",
        "colab": {
          "base_uri": "https://localhost:8080/",
          "height": 343
        }
      },
      "source": [
        "filname = '/content/drive/My Drive/fer2013.csv'\n",
        "label_map = ['Anger', 'Disgust', 'Fear', 'Happy', 'Sad', 'Surprise', 'Neutral']\n",
        "names=['emotion','pixels','usage']\n",
        "df=pd.read_csv('/content/drive/My Drive/fer2013.csv',names=names, na_filter=False)\n",
        "im=df['pixels']\n",
        "df.head(10)"
      ],
      "execution_count": 0,
      "outputs": [
        {
          "output_type": "execute_result",
          "data": {
            "text/html": [
              "<div>\n",
              "<style scoped>\n",
              "    .dataframe tbody tr th:only-of-type {\n",
              "        vertical-align: middle;\n",
              "    }\n",
              "\n",
              "    .dataframe tbody tr th {\n",
              "        vertical-align: top;\n",
              "    }\n",
              "\n",
              "    .dataframe thead th {\n",
              "        text-align: right;\n",
              "    }\n",
              "</style>\n",
              "<table border=\"1\" class=\"dataframe\">\n",
              "  <thead>\n",
              "    <tr style=\"text-align: right;\">\n",
              "      <th></th>\n",
              "      <th>emotion</th>\n",
              "      <th>pixels</th>\n",
              "      <th>usage</th>\n",
              "    </tr>\n",
              "  </thead>\n",
              "  <tbody>\n",
              "    <tr>\n",
              "      <th>0</th>\n",
              "      <td>emotion</td>\n",
              "      <td>pixels</td>\n",
              "      <td>Usage</td>\n",
              "    </tr>\n",
              "    <tr>\n",
              "      <th>1</th>\n",
              "      <td>0</td>\n",
              "      <td>70 80 82 72 58 58 60 63 54 58 60 48 89 115 121...</td>\n",
              "      <td>Training</td>\n",
              "    </tr>\n",
              "    <tr>\n",
              "      <th>2</th>\n",
              "      <td>0</td>\n",
              "      <td>151 150 147 155 148 133 111 140 170 174 182 15...</td>\n",
              "      <td>Training</td>\n",
              "    </tr>\n",
              "    <tr>\n",
              "      <th>3</th>\n",
              "      <td>2</td>\n",
              "      <td>231 212 156 164 174 138 161 173 182 200 106 38...</td>\n",
              "      <td>Training</td>\n",
              "    </tr>\n",
              "    <tr>\n",
              "      <th>4</th>\n",
              "      <td>4</td>\n",
              "      <td>24 32 36 30 32 23 19 20 30 41 21 22 32 34 21 1...</td>\n",
              "      <td>Training</td>\n",
              "    </tr>\n",
              "    <tr>\n",
              "      <th>5</th>\n",
              "      <td>6</td>\n",
              "      <td>4 0 0 0 0 0 0 0 0 0 0 0 3 15 23 28 48 50 58 84...</td>\n",
              "      <td>Training</td>\n",
              "    </tr>\n",
              "    <tr>\n",
              "      <th>6</th>\n",
              "      <td>2</td>\n",
              "      <td>55 55 55 55 55 54 60 68 54 85 151 163 170 179 ...</td>\n",
              "      <td>Training</td>\n",
              "    </tr>\n",
              "    <tr>\n",
              "      <th>7</th>\n",
              "      <td>4</td>\n",
              "      <td>20 17 19 21 25 38 42 42 46 54 56 62 63 66 82 1...</td>\n",
              "      <td>Training</td>\n",
              "    </tr>\n",
              "    <tr>\n",
              "      <th>8</th>\n",
              "      <td>3</td>\n",
              "      <td>77 78 79 79 78 75 60 55 47 48 58 73 77 79 57 5...</td>\n",
              "      <td>Training</td>\n",
              "    </tr>\n",
              "    <tr>\n",
              "      <th>9</th>\n",
              "      <td>3</td>\n",
              "      <td>85 84 90 121 101 102 133 153 153 169 177 189 1...</td>\n",
              "      <td>Training</td>\n",
              "    </tr>\n",
              "  </tbody>\n",
              "</table>\n",
              "</div>"
            ],
            "text/plain": [
              "   emotion                                             pixels     usage\n",
              "0  emotion                                             pixels     Usage\n",
              "1        0  70 80 82 72 58 58 60 63 54 58 60 48 89 115 121...  Training\n",
              "2        0  151 150 147 155 148 133 111 140 170 174 182 15...  Training\n",
              "3        2  231 212 156 164 174 138 161 173 182 200 106 38...  Training\n",
              "4        4  24 32 36 30 32 23 19 20 30 41 21 22 32 34 21 1...  Training\n",
              "5        6  4 0 0 0 0 0 0 0 0 0 0 0 3 15 23 28 48 50 58 84...  Training\n",
              "6        2  55 55 55 55 55 54 60 68 54 85 151 163 170 179 ...  Training\n",
              "7        4  20 17 19 21 25 38 42 42 46 54 56 62 63 66 82 1...  Training\n",
              "8        3  77 78 79 79 78 75 60 55 47 48 58 73 77 79 57 5...  Training\n",
              "9        3  85 84 90 121 101 102 133 153 153 169 177 189 1...  Training"
            ]
          },
          "metadata": {
            "tags": []
          },
          "execution_count": 2
        }
      ]
    },
    {
      "cell_type": "code",
      "metadata": {
        "id": "aaqUd1mt4d6H",
        "colab_type": "code",
        "colab": {}
      },
      "source": [
        "def getData(filname):\n",
        "    # images are 48x48\n",
        "    # N = 35887\n",
        "    y = []\n",
        "    x = []\n",
        "    first = True\n",
        "    for line in open(filname):\n",
        "        if first:\n",
        "            first = False\n",
        "        else:\n",
        "            row = line.split(',')\n",
        "            y.append(int(row[0]))\n",
        "            x.append([int(p) for p in row[1].split()])\n",
        "\n",
        "    X, Y = np.array(x) / 255, np.array(y)\n",
        "    return X, Y"
      ],
      "execution_count": 0,
      "outputs": []
    },
    {
      "cell_type": "code",
      "metadata": {
        "id": "MexETLFL4hPv",
        "colab_type": "code",
        "outputId": "f2d2bf9a-b400-4281-a38e-d3390be16b80",
        "colab": {
          "base_uri": "https://localhost:8080/",
          "height": 34
        }
      },
      "source": [
        "X, Y = getData(filname)\n",
        "num_class = len(set(Y))\n",
        "print(num_class)"
      ],
      "execution_count": 0,
      "outputs": [
        {
          "output_type": "stream",
          "text": [
            "7\n"
          ],
          "name": "stdout"
        }
      ]
    },
    {
      "cell_type": "code",
      "metadata": {
        "id": "vLseV7KE4m3Q",
        "colab_type": "code",
        "colab": {}
      },
      "source": [
        "N, D = X.shape\n",
        "X = X.reshape(N, 48, 48, 1)\n",
        "from sklearn.model_selection import train_test_split\n",
        "\n",
        "X_train, X_test, y_train, y_test = train_test_split(X, Y, test_size=0.1, random_state=0)\n",
        "X_train = torch.Tensor(X_train)\n",
        "y_train = torch.Tensor(y_train).long()\n",
        "X_test = torch.Tensor(X_test)\n",
        "y_test = torch.Tensor(y_test).long()"
      ],
      "execution_count": 0,
      "outputs": []
    },
    {
      "cell_type": "code",
      "metadata": {
        "id": "krK2VZ4z4pzX",
        "colab_type": "code",
        "colab": {}
      },
      "source": [
        "training_data = []\n",
        "test_data = []\n",
        "for i in range(len(X_train)):\n",
        "    training_data.append([X_train[i], y_train[i]])\n",
        "for i in range(len(X_test)):\n",
        "    test_data.append([X_test[i], y_test[i]])"
      ],
      "execution_count": 0,
      "outputs": []
    },
    {
      "cell_type": "code",
      "metadata": {
        "id": "KqiFm3j34vxy",
        "colab_type": "code",
        "colab": {}
      },
      "source": [
        "class AlexNet(nn.Module):\n",
        "\n",
        "    def __init__(self, num_classes=1000):\n",
        "        super(AlexNet, self).__init__()\n",
        "        self.features = nn.Sequential(\n",
        "            nn.Conv2d(1, 64, kernel_size=5, stride=1, padding=2), #kernel_size=11, stride=4, padding=5\n",
        "            nn.ReLU(inplace=True),\n",
        "            # nn.MaxPool2d(kernel_size=3, stride=2),\n",
        "            nn.Conv2d(64, 192, kernel_size=5, padding=2),\n",
        "            nn.ReLU(inplace=True),\n",
        "            nn.MaxPool2d(kernel_size=3, stride=2), # 24x24\n",
        "            nn.Conv2d(192, 384, kernel_size=3, padding=1),\n",
        "            nn.ReLU(inplace=True),\n",
        "            nn.MaxPool2d(kernel_size=3, stride=2), # ! 12x12\n",
        "            nn.Conv2d(384, 256, kernel_size=3, padding=1),\n",
        "            nn.ReLU(inplace=True),\n",
        "            nn.Conv2d(256, 256, kernel_size=3, padding=1),\n",
        "            nn.ReLU(inplace=True),\n",
        "            nn.MaxPool2d(kernel_size=3, stride=2), # 6x6\n",
        "        )\n",
        "        # self.avgpool = nn.AdaptiveAvgPool2d((6, 6))\n",
        "        self.classifier = nn.Sequential(\n",
        "            nn.Dropout(0.6),\n",
        "            nn.Linear(256 * 5 * 5, 4096),\n",
        "            nn.ReLU(inplace=True),\n",
        "            nn.Dropout(0.6),\n",
        "            nn.Linear(4096, 4096),\n",
        "            nn.ReLU(inplace=True),\n",
        "            nn.Linear(4096, num_classes),\n",
        "        )\n",
        "\n",
        "    def forward(self, x):\n",
        "        x = self.features(x)\n",
        "        # print(x.size())\n",
        "        # x = self.avgpool(x)\n",
        "        x = torch.flatten(x, 1)\n",
        "        x = self.classifier(x)\n",
        "        return x\n"
      ],
      "execution_count": 0,
      "outputs": []
    },
    {
      "cell_type": "code",
      "metadata": {
        "id": "SQaT8xGZHgFj",
        "colab_type": "code",
        "outputId": "bde9ee81-4dd8-42a3-c62d-3d87d0d5c69e",
        "colab": {
          "base_uri": "https://localhost:8080/",
          "height": 454
        }
      },
      "source": [
        "net = AlexNet(7)\n",
        "net = net.cuda()\n",
        "print(net)\n",
        "optimizer = optim.Adam(net.parameters(), lr=0.0001, weight_decay=0.0001)\n",
        "loss_function = nn.CrossEntropyLoss()"
      ],
      "execution_count": 0,
      "outputs": [
        {
          "output_type": "stream",
          "text": [
            "AlexNet(\n",
            "  (features): Sequential(\n",
            "    (0): Conv2d(1, 64, kernel_size=(5, 5), stride=(1, 1), padding=(2, 2))\n",
            "    (1): ReLU(inplace=True)\n",
            "    (2): Conv2d(64, 192, kernel_size=(5, 5), stride=(1, 1), padding=(2, 2))\n",
            "    (3): ReLU(inplace=True)\n",
            "    (4): MaxPool2d(kernel_size=3, stride=2, padding=0, dilation=1, ceil_mode=False)\n",
            "    (5): Conv2d(192, 384, kernel_size=(3, 3), stride=(1, 1), padding=(1, 1))\n",
            "    (6): ReLU(inplace=True)\n",
            "    (7): MaxPool2d(kernel_size=3, stride=2, padding=0, dilation=1, ceil_mode=False)\n",
            "    (8): Conv2d(384, 256, kernel_size=(3, 3), stride=(1, 1), padding=(1, 1))\n",
            "    (9): ReLU(inplace=True)\n",
            "    (10): Conv2d(256, 256, kernel_size=(3, 3), stride=(1, 1), padding=(1, 1))\n",
            "    (11): ReLU(inplace=True)\n",
            "    (12): MaxPool2d(kernel_size=3, stride=2, padding=0, dilation=1, ceil_mode=False)\n",
            "  )\n",
            "  (classifier): Sequential(\n",
            "    (0): Dropout(p=0.5, inplace=False)\n",
            "    (1): Linear(in_features=6400, out_features=1024, bias=True)\n",
            "    (2): ReLU(inplace=True)\n",
            "    (3): Dropout(p=0.5, inplace=False)\n",
            "    (4): Linear(in_features=1024, out_features=1024, bias=True)\n",
            "    (5): ReLU(inplace=True)\n",
            "    (6): Linear(in_features=1024, out_features=7, bias=True)\n",
            "  )\n",
            ")\n"
          ],
          "name": "stdout"
        }
      ]
    },
    {
      "cell_type": "code",
      "metadata": {
        "id": "xoS0dd9G47Es",
        "colab_type": "code",
        "outputId": "26827701-525a-4def-a32c-84c7d083aeb7",
        "colab": {
          "base_uri": "https://localhost:8080/",
          "height": 1000
        }
      },
      "source": [
        "PATH = 'model_filter.h5' # save model at this location after each epoch\n",
        "\n",
        "EPOCHS = 50\n",
        "\n",
        "batch_size = 400\n",
        "\n",
        "train_acc = [0] * EPOCHS\n",
        "\n",
        "train_loss = [0] * EPOCHS\n",
        "\n",
        "index = 0\n",
        "\n",
        "for epochs in range(EPOCHS):\n",
        "    \n",
        "    for i in tqdm(range(0, len(X_train), batch_size)):\n",
        "        \n",
        "        batch_X = X_train[i:i + batch_size].view(-1, 1, 48, 48).cuda()\n",
        "        \n",
        "        batch_y = y_train[i:i + batch_size].cuda()\n",
        "        \n",
        "        net.zero_grad()\n",
        "        \n",
        "        outputs = net(batch_X)\n",
        "        \n",
        "        loss = loss_function(outputs, batch_y)\n",
        "        \n",
        "        loss.backward()\n",
        "        \n",
        "        optimizer.step()\n",
        "    \n",
        "    correct = 0\n",
        "\n",
        "    total = 0\n",
        "\n",
        "    net.eval()\n",
        "    with torch.no_grad():\n",
        "        for new_i in tqdm(range(0, len(X_test), batch_size)):\n",
        "            real_class = y_test[new_i:new_i + batch_size]\n",
        "            batch_X = X_test[new_i:new_i + batch_size].view(-1, 1, 48, 48).cuda()\n",
        "            ans = net(batch_X)\n",
        "            for j in range(len(ans)):\n",
        "                ind = torch.argmax(ans[j])\n",
        "                if (real_class[j] == ind):\n",
        "                    correct += 1\n",
        "                total += 1\n",
        "    net.train()\n",
        "\n",
        "    train_acc[index] = round(correct/total, 3)\n",
        "\n",
        "    train_loss[index] = loss\n",
        "\n",
        "    index += 1\n",
        "\n",
        "    print(f\"Epoch: {epochs}. Loss: {loss}\")\n",
        "\n",
        "torch.save(net.state_dict(), PATH)"
      ],
      "execution_count": 0,
      "outputs": [
        {
          "output_type": "stream",
          "text": [
            "100%|██████████| 81/81 [00:33<00:00,  2.45it/s]\n",
            "100%|██████████| 9/9 [00:01<00:00,  5.59it/s]\n",
            "  0%|          | 0/81 [00:00<?, ?it/s]"
          ],
          "name": "stderr"
        },
        {
          "output_type": "stream",
          "text": [
            "Epoch: 0. Loss: 0.43323439359664917\n"
          ],
          "name": "stdout"
        },
        {
          "output_type": "stream",
          "text": [
            "100%|██████████| 81/81 [00:34<00:00,  2.37it/s]\n",
            "100%|██████████| 9/9 [00:01<00:00,  5.68it/s]\n",
            "  0%|          | 0/81 [00:00<?, ?it/s]"
          ],
          "name": "stderr"
        },
        {
          "output_type": "stream",
          "text": [
            "Epoch: 1. Loss: 0.36238494515419006\n"
          ],
          "name": "stdout"
        },
        {
          "output_type": "stream",
          "text": [
            "100%|██████████| 81/81 [00:33<00:00,  2.43it/s]\n",
            "100%|██████████| 9/9 [00:01<00:00,  5.67it/s]\n",
            "  0%|          | 0/81 [00:00<?, ?it/s]"
          ],
          "name": "stderr"
        },
        {
          "output_type": "stream",
          "text": [
            "Epoch: 2. Loss: 0.43312522768974304\n"
          ],
          "name": "stdout"
        },
        {
          "output_type": "stream",
          "text": [
            "100%|██████████| 81/81 [00:33<00:00,  2.38it/s]\n",
            "100%|██████████| 9/9 [00:01<00:00,  5.65it/s]\n",
            "  0%|          | 0/81 [00:00<?, ?it/s]"
          ],
          "name": "stderr"
        },
        {
          "output_type": "stream",
          "text": [
            "Epoch: 3. Loss: 0.3629804253578186\n"
          ],
          "name": "stdout"
        },
        {
          "output_type": "stream",
          "text": [
            "100%|██████████| 81/81 [00:33<00:00,  2.41it/s]\n",
            "100%|██████████| 9/9 [00:01<00:00,  5.64it/s]\n",
            "  0%|          | 0/81 [00:00<?, ?it/s]"
          ],
          "name": "stderr"
        },
        {
          "output_type": "stream",
          "text": [
            "Epoch: 4. Loss: 0.33842116594314575\n"
          ],
          "name": "stdout"
        },
        {
          "output_type": "stream",
          "text": [
            "100%|██████████| 81/81 [00:33<00:00,  2.41it/s]\n",
            "100%|██████████| 9/9 [00:01<00:00,  5.66it/s]\n",
            "  0%|          | 0/81 [00:00<?, ?it/s]"
          ],
          "name": "stderr"
        },
        {
          "output_type": "stream",
          "text": [
            "Epoch: 5. Loss: 0.3261222541332245\n"
          ],
          "name": "stdout"
        },
        {
          "output_type": "stream",
          "text": [
            "100%|██████████| 81/81 [00:33<00:00,  2.39it/s]\n",
            "100%|██████████| 9/9 [00:01<00:00,  5.65it/s]\n",
            "  0%|          | 0/81 [00:00<?, ?it/s]"
          ],
          "name": "stderr"
        },
        {
          "output_type": "stream",
          "text": [
            "Epoch: 6. Loss: 0.31156301498413086\n"
          ],
          "name": "stdout"
        },
        {
          "output_type": "stream",
          "text": [
            "100%|██████████| 81/81 [00:33<00:00,  2.39it/s]\n",
            "100%|██████████| 9/9 [00:01<00:00,  5.65it/s]\n",
            "  0%|          | 0/81 [00:00<?, ?it/s]"
          ],
          "name": "stderr"
        },
        {
          "output_type": "stream",
          "text": [
            "Epoch: 7. Loss: 0.3465667963027954\n"
          ],
          "name": "stdout"
        },
        {
          "output_type": "stream",
          "text": [
            "100%|██████████| 81/81 [00:33<00:00,  2.39it/s]\n",
            "100%|██████████| 9/9 [00:01<00:00,  5.64it/s]\n",
            "  0%|          | 0/81 [00:00<?, ?it/s]"
          ],
          "name": "stderr"
        },
        {
          "output_type": "stream",
          "text": [
            "Epoch: 8. Loss: 0.355696439743042\n"
          ],
          "name": "stdout"
        },
        {
          "output_type": "stream",
          "text": [
            "100%|██████████| 81/81 [00:33<00:00,  2.39it/s]\n",
            "100%|██████████| 9/9 [00:01<00:00,  5.65it/s]\n",
            "  0%|          | 0/81 [00:00<?, ?it/s]"
          ],
          "name": "stderr"
        },
        {
          "output_type": "stream",
          "text": [
            "Epoch: 9. Loss: 0.3064629137516022\n"
          ],
          "name": "stdout"
        },
        {
          "output_type": "stream",
          "text": [
            "100%|██████████| 81/81 [00:33<00:00,  2.39it/s]\n",
            "100%|██████████| 9/9 [00:01<00:00,  5.64it/s]\n",
            "  0%|          | 0/81 [00:00<?, ?it/s]"
          ],
          "name": "stderr"
        },
        {
          "output_type": "stream",
          "text": [
            "Epoch: 10. Loss: 0.3411305248737335\n"
          ],
          "name": "stdout"
        },
        {
          "output_type": "stream",
          "text": [
            "100%|██████████| 81/81 [00:33<00:00,  2.39it/s]\n",
            "100%|██████████| 9/9 [00:01<00:00,  5.64it/s]\n",
            "  0%|          | 0/81 [00:00<?, ?it/s]"
          ],
          "name": "stderr"
        },
        {
          "output_type": "stream",
          "text": [
            "Epoch: 11. Loss: 0.29851028323173523\n"
          ],
          "name": "stdout"
        },
        {
          "output_type": "stream",
          "text": [
            "100%|██████████| 81/81 [00:33<00:00,  2.39it/s]\n",
            "100%|██████████| 9/9 [00:01<00:00,  5.62it/s]\n",
            "  0%|          | 0/81 [00:00<?, ?it/s]"
          ],
          "name": "stderr"
        },
        {
          "output_type": "stream",
          "text": [
            "Epoch: 12. Loss: 0.2613447904586792\n"
          ],
          "name": "stdout"
        },
        {
          "output_type": "stream",
          "text": [
            "100%|██████████| 81/81 [00:33<00:00,  2.40it/s]\n",
            "100%|██████████| 9/9 [00:01<00:00,  5.63it/s]\n",
            "  0%|          | 0/81 [00:00<?, ?it/s]"
          ],
          "name": "stderr"
        },
        {
          "output_type": "stream",
          "text": [
            "Epoch: 13. Loss: 0.21855826675891876\n"
          ],
          "name": "stdout"
        },
        {
          "output_type": "stream",
          "text": [
            "100%|██████████| 81/81 [00:33<00:00,  2.40it/s]\n",
            "100%|██████████| 9/9 [00:01<00:00,  5.66it/s]\n",
            "  0%|          | 0/81 [00:00<?, ?it/s]"
          ],
          "name": "stderr"
        },
        {
          "output_type": "stream",
          "text": [
            "Epoch: 14. Loss: 0.2112475484609604\n"
          ],
          "name": "stdout"
        },
        {
          "output_type": "stream",
          "text": [
            "100%|██████████| 81/81 [00:33<00:00,  2.41it/s]\n",
            "100%|██████████| 9/9 [00:01<00:00,  5.66it/s]\n",
            "  0%|          | 0/81 [00:00<?, ?it/s]"
          ],
          "name": "stderr"
        },
        {
          "output_type": "stream",
          "text": [
            "Epoch: 15. Loss: 0.26162147521972656\n"
          ],
          "name": "stdout"
        },
        {
          "output_type": "stream",
          "text": [
            "100%|██████████| 81/81 [00:33<00:00,  2.41it/s]\n",
            "100%|██████████| 9/9 [00:01<00:00,  5.65it/s]\n",
            "  0%|          | 0/81 [00:00<?, ?it/s]"
          ],
          "name": "stderr"
        },
        {
          "output_type": "stream",
          "text": [
            "Epoch: 16. Loss: 0.20759408175945282\n"
          ],
          "name": "stdout"
        },
        {
          "output_type": "stream",
          "text": [
            "100%|██████████| 81/81 [00:33<00:00,  2.41it/s]\n",
            "100%|██████████| 9/9 [00:01<00:00,  5.65it/s]\n",
            "  0%|          | 0/81 [00:00<?, ?it/s]"
          ],
          "name": "stderr"
        },
        {
          "output_type": "stream",
          "text": [
            "Epoch: 17. Loss: 0.24441978335380554\n"
          ],
          "name": "stdout"
        },
        {
          "output_type": "stream",
          "text": [
            "100%|██████████| 81/81 [00:33<00:00,  2.41it/s]\n",
            "100%|██████████| 9/9 [00:01<00:00,  5.64it/s]\n",
            "  0%|          | 0/81 [00:00<?, ?it/s]"
          ],
          "name": "stderr"
        },
        {
          "output_type": "stream",
          "text": [
            "Epoch: 18. Loss: 0.1758149415254593\n"
          ],
          "name": "stdout"
        },
        {
          "output_type": "stream",
          "text": [
            "100%|██████████| 81/81 [00:33<00:00,  2.41it/s]\n",
            "100%|██████████| 9/9 [00:01<00:00,  5.63it/s]\n",
            "  0%|          | 0/81 [00:00<?, ?it/s]"
          ],
          "name": "stderr"
        },
        {
          "output_type": "stream",
          "text": [
            "Epoch: 19. Loss: 0.1773376762866974\n"
          ],
          "name": "stdout"
        },
        {
          "output_type": "stream",
          "text": [
            "100%|██████████| 81/81 [00:33<00:00,  2.40it/s]\n",
            "100%|██████████| 9/9 [00:01<00:00,  5.66it/s]\n",
            "  0%|          | 0/81 [00:00<?, ?it/s]"
          ],
          "name": "stderr"
        },
        {
          "output_type": "stream",
          "text": [
            "Epoch: 20. Loss: 0.1900569200515747\n"
          ],
          "name": "stdout"
        },
        {
          "output_type": "stream",
          "text": [
            "100%|██████████| 81/81 [00:33<00:00,  2.39it/s]\n",
            "100%|██████████| 9/9 [00:01<00:00,  5.66it/s]\n",
            "  0%|          | 0/81 [00:00<?, ?it/s]"
          ],
          "name": "stderr"
        },
        {
          "output_type": "stream",
          "text": [
            "Epoch: 21. Loss: 0.23560073971748352\n"
          ],
          "name": "stdout"
        },
        {
          "output_type": "stream",
          "text": [
            "100%|██████████| 81/81 [00:33<00:00,  2.39it/s]\n",
            "100%|██████████| 9/9 [00:01<00:00,  5.65it/s]\n",
            "  0%|          | 0/81 [00:00<?, ?it/s]"
          ],
          "name": "stderr"
        },
        {
          "output_type": "stream",
          "text": [
            "Epoch: 22. Loss: 0.17373253405094147\n"
          ],
          "name": "stdout"
        },
        {
          "output_type": "stream",
          "text": [
            "100%|██████████| 81/81 [00:33<00:00,  2.40it/s]\n",
            "100%|██████████| 9/9 [00:01<00:00,  5.64it/s]\n",
            "  0%|          | 0/81 [00:00<?, ?it/s]"
          ],
          "name": "stderr"
        },
        {
          "output_type": "stream",
          "text": [
            "Epoch: 23. Loss: 0.21139979362487793\n"
          ],
          "name": "stdout"
        },
        {
          "output_type": "stream",
          "text": [
            "100%|██████████| 81/81 [00:33<00:00,  2.41it/s]\n",
            "100%|██████████| 9/9 [00:01<00:00,  5.67it/s]\n",
            "  0%|          | 0/81 [00:00<?, ?it/s]"
          ],
          "name": "stderr"
        },
        {
          "output_type": "stream",
          "text": [
            "Epoch: 24. Loss: 0.20359306037425995\n"
          ],
          "name": "stdout"
        },
        {
          "output_type": "stream",
          "text": [
            "100%|██████████| 81/81 [00:33<00:00,  2.41it/s]\n",
            "100%|██████████| 9/9 [00:01<00:00,  5.62it/s]\n",
            "  0%|          | 0/81 [00:00<?, ?it/s]"
          ],
          "name": "stderr"
        },
        {
          "output_type": "stream",
          "text": [
            "Epoch: 25. Loss: 0.14738105237483978\n"
          ],
          "name": "stdout"
        },
        {
          "output_type": "stream",
          "text": [
            "100%|██████████| 81/81 [00:33<00:00,  2.41it/s]\n",
            "100%|██████████| 9/9 [00:01<00:00,  5.65it/s]\n",
            "  0%|          | 0/81 [00:00<?, ?it/s]"
          ],
          "name": "stderr"
        },
        {
          "output_type": "stream",
          "text": [
            "Epoch: 26. Loss: 0.17860062420368195\n"
          ],
          "name": "stdout"
        },
        {
          "output_type": "stream",
          "text": [
            "100%|██████████| 81/81 [00:33<00:00,  2.41it/s]\n",
            "100%|██████████| 9/9 [00:01<00:00,  5.66it/s]\n",
            "  0%|          | 0/81 [00:00<?, ?it/s]"
          ],
          "name": "stderr"
        },
        {
          "output_type": "stream",
          "text": [
            "Epoch: 27. Loss: 0.20196358859539032\n"
          ],
          "name": "stdout"
        },
        {
          "output_type": "stream",
          "text": [
            "100%|██████████| 81/81 [00:33<00:00,  2.41it/s]\n",
            "100%|██████████| 9/9 [00:01<00:00,  5.63it/s]\n",
            "  0%|          | 0/81 [00:00<?, ?it/s]"
          ],
          "name": "stderr"
        },
        {
          "output_type": "stream",
          "text": [
            "Epoch: 28. Loss: 0.18379706144332886\n"
          ],
          "name": "stdout"
        },
        {
          "output_type": "stream",
          "text": [
            "100%|██████████| 81/81 [00:33<00:00,  2.41it/s]\n",
            "100%|██████████| 9/9 [00:01<00:00,  5.66it/s]\n",
            "  0%|          | 0/81 [00:00<?, ?it/s]"
          ],
          "name": "stderr"
        },
        {
          "output_type": "stream",
          "text": [
            "Epoch: 29. Loss: 0.16944625973701477\n"
          ],
          "name": "stdout"
        },
        {
          "output_type": "stream",
          "text": [
            "100%|██████████| 81/81 [00:33<00:00,  2.41it/s]\n",
            "100%|██████████| 9/9 [00:01<00:00,  5.66it/s]\n",
            "  0%|          | 0/81 [00:00<?, ?it/s]"
          ],
          "name": "stderr"
        },
        {
          "output_type": "stream",
          "text": [
            "Epoch: 30. Loss: 0.1778106391429901\n"
          ],
          "name": "stdout"
        },
        {
          "output_type": "stream",
          "text": [
            "100%|██████████| 81/81 [00:33<00:00,  2.40it/s]\n",
            "100%|██████████| 9/9 [00:01<00:00,  5.63it/s]\n",
            "  0%|          | 0/81 [00:00<?, ?it/s]"
          ],
          "name": "stderr"
        },
        {
          "output_type": "stream",
          "text": [
            "Epoch: 31. Loss: 0.1647638976573944\n"
          ],
          "name": "stdout"
        },
        {
          "output_type": "stream",
          "text": [
            "100%|██████████| 81/81 [00:33<00:00,  2.39it/s]\n",
            "100%|██████████| 9/9 [00:01<00:00,  5.60it/s]\n",
            "  0%|          | 0/81 [00:00<?, ?it/s]"
          ],
          "name": "stderr"
        },
        {
          "output_type": "stream",
          "text": [
            "Epoch: 32. Loss: 0.127301424741745\n"
          ],
          "name": "stdout"
        },
        {
          "output_type": "stream",
          "text": [
            "100%|██████████| 81/81 [00:33<00:00,  2.39it/s]\n",
            "100%|██████████| 9/9 [00:01<00:00,  5.64it/s]\n",
            "  0%|          | 0/81 [00:00<?, ?it/s]"
          ],
          "name": "stderr"
        },
        {
          "output_type": "stream",
          "text": [
            "Epoch: 33. Loss: 0.1907506287097931\n"
          ],
          "name": "stdout"
        },
        {
          "output_type": "stream",
          "text": [
            "100%|██████████| 81/81 [00:33<00:00,  2.39it/s]\n",
            "100%|██████████| 9/9 [00:01<00:00,  5.63it/s]\n",
            "  0%|          | 0/81 [00:00<?, ?it/s]"
          ],
          "name": "stderr"
        },
        {
          "output_type": "stream",
          "text": [
            "Epoch: 34. Loss: 0.1938363015651703\n"
          ],
          "name": "stdout"
        },
        {
          "output_type": "stream",
          "text": [
            "100%|██████████| 81/81 [00:33<00:00,  2.39it/s]\n",
            "100%|██████████| 9/9 [00:01<00:00,  5.66it/s]\n",
            "  0%|          | 0/81 [00:00<?, ?it/s]"
          ],
          "name": "stderr"
        },
        {
          "output_type": "stream",
          "text": [
            "Epoch: 35. Loss: 0.1141946017742157\n"
          ],
          "name": "stdout"
        },
        {
          "output_type": "stream",
          "text": [
            "100%|██████████| 81/81 [00:33<00:00,  2.40it/s]\n",
            "100%|██████████| 9/9 [00:01<00:00,  5.63it/s]\n",
            "  0%|          | 0/81 [00:00<?, ?it/s]"
          ],
          "name": "stderr"
        },
        {
          "output_type": "stream",
          "text": [
            "Epoch: 36. Loss: 0.1579795777797699\n"
          ],
          "name": "stdout"
        },
        {
          "output_type": "stream",
          "text": [
            "100%|██████████| 81/81 [00:33<00:00,  2.41it/s]\n",
            "100%|██████████| 9/9 [00:01<00:00,  5.66it/s]\n",
            "  0%|          | 0/81 [00:00<?, ?it/s]"
          ],
          "name": "stderr"
        },
        {
          "output_type": "stream",
          "text": [
            "Epoch: 37. Loss: 0.15435229241847992\n"
          ],
          "name": "stdout"
        },
        {
          "output_type": "stream",
          "text": [
            "100%|██████████| 81/81 [00:33<00:00,  2.41it/s]\n",
            "100%|██████████| 9/9 [00:01<00:00,  5.63it/s]\n",
            "  0%|          | 0/81 [00:00<?, ?it/s]"
          ],
          "name": "stderr"
        },
        {
          "output_type": "stream",
          "text": [
            "Epoch: 38. Loss: 0.14950580894947052\n"
          ],
          "name": "stdout"
        },
        {
          "output_type": "stream",
          "text": [
            "100%|██████████| 81/81 [00:33<00:00,  2.41it/s]\n",
            "100%|██████████| 9/9 [00:01<00:00,  5.63it/s]\n",
            "  0%|          | 0/81 [00:00<?, ?it/s]"
          ],
          "name": "stderr"
        },
        {
          "output_type": "stream",
          "text": [
            "Epoch: 39. Loss: 0.12171418964862823\n"
          ],
          "name": "stdout"
        },
        {
          "output_type": "stream",
          "text": [
            "100%|██████████| 81/81 [00:33<00:00,  2.40it/s]\n",
            "100%|██████████| 9/9 [00:01<00:00,  5.64it/s]\n",
            "  0%|          | 0/81 [00:00<?, ?it/s]"
          ],
          "name": "stderr"
        },
        {
          "output_type": "stream",
          "text": [
            "Epoch: 40. Loss: 0.12243488430976868\n"
          ],
          "name": "stdout"
        },
        {
          "output_type": "stream",
          "text": [
            "100%|██████████| 81/81 [00:33<00:00,  2.40it/s]\n",
            "100%|██████████| 9/9 [00:01<00:00,  5.66it/s]\n",
            "  0%|          | 0/81 [00:00<?, ?it/s]"
          ],
          "name": "stderr"
        },
        {
          "output_type": "stream",
          "text": [
            "Epoch: 41. Loss: 0.12781712412834167\n"
          ],
          "name": "stdout"
        },
        {
          "output_type": "stream",
          "text": [
            "100%|██████████| 81/81 [00:33<00:00,  2.40it/s]\n",
            "100%|██████████| 9/9 [00:01<00:00,  5.63it/s]\n",
            "  0%|          | 0/81 [00:00<?, ?it/s]"
          ],
          "name": "stderr"
        },
        {
          "output_type": "stream",
          "text": [
            "Epoch: 42. Loss: 0.121905617415905\n"
          ],
          "name": "stdout"
        },
        {
          "output_type": "stream",
          "text": [
            "100%|██████████| 81/81 [00:33<00:00,  2.39it/s]\n",
            "100%|██████████| 9/9 [00:01<00:00,  5.60it/s]\n",
            "  0%|          | 0/81 [00:00<?, ?it/s]"
          ],
          "name": "stderr"
        },
        {
          "output_type": "stream",
          "text": [
            "Epoch: 43. Loss: 0.1721242517232895\n"
          ],
          "name": "stdout"
        },
        {
          "output_type": "stream",
          "text": [
            "100%|██████████| 81/81 [00:33<00:00,  2.39it/s]\n",
            "100%|██████████| 9/9 [00:01<00:00,  5.65it/s]\n",
            "  0%|          | 0/81 [00:00<?, ?it/s]"
          ],
          "name": "stderr"
        },
        {
          "output_type": "stream",
          "text": [
            "Epoch: 44. Loss: 0.10089008510112762\n"
          ],
          "name": "stdout"
        },
        {
          "output_type": "stream",
          "text": [
            "100%|██████████| 81/81 [00:33<00:00,  2.39it/s]\n",
            "100%|██████████| 9/9 [00:01<00:00,  5.64it/s]\n",
            "  0%|          | 0/81 [00:00<?, ?it/s]"
          ],
          "name": "stderr"
        },
        {
          "output_type": "stream",
          "text": [
            "Epoch: 45. Loss: 0.07441660761833191\n"
          ],
          "name": "stdout"
        },
        {
          "output_type": "stream",
          "text": [
            "100%|██████████| 81/81 [00:33<00:00,  2.39it/s]\n",
            "100%|██████████| 9/9 [00:01<00:00,  5.60it/s]\n",
            "  0%|          | 0/81 [00:00<?, ?it/s]"
          ],
          "name": "stderr"
        },
        {
          "output_type": "stream",
          "text": [
            "Epoch: 46. Loss: 0.09334304928779602\n"
          ],
          "name": "stdout"
        },
        {
          "output_type": "stream",
          "text": [
            "100%|██████████| 81/81 [00:33<00:00,  2.40it/s]\n",
            "100%|██████████| 9/9 [00:01<00:00,  5.66it/s]\n",
            "  0%|          | 0/81 [00:00<?, ?it/s]"
          ],
          "name": "stderr"
        },
        {
          "output_type": "stream",
          "text": [
            "Epoch: 47. Loss: 0.10844510048627853\n"
          ],
          "name": "stdout"
        },
        {
          "output_type": "stream",
          "text": [
            "100%|██████████| 81/81 [00:33<00:00,  2.41it/s]\n",
            "100%|██████████| 9/9 [00:01<00:00,  5.67it/s]\n",
            "  0%|          | 0/81 [00:00<?, ?it/s]"
          ],
          "name": "stderr"
        },
        {
          "output_type": "stream",
          "text": [
            "Epoch: 48. Loss: 0.11749353259801865\n"
          ],
          "name": "stdout"
        },
        {
          "output_type": "stream",
          "text": [
            "100%|██████████| 81/81 [00:33<00:00,  2.41it/s]\n",
            "100%|██████████| 9/9 [00:01<00:00,  5.65it/s]"
          ],
          "name": "stderr"
        },
        {
          "output_type": "stream",
          "text": [
            "Epoch: 49. Loss: 0.11323826760053635\n"
          ],
          "name": "stdout"
        },
        {
          "output_type": "stream",
          "text": [
            "\n"
          ],
          "name": "stderr"
        }
      ]
    },
    {
      "cell_type": "code",
      "metadata": {
        "id": "bjFAJpsA4_cv",
        "colab_type": "code",
        "outputId": "68f7dee3-b953-46a0-f41b-b64030c53a31",
        "colab": {
          "base_uri": "https://localhost:8080/",
          "height": 34
        }
      },
      "source": [
        "list1 = [0] * EPOCHS\n",
        "for i in range(EPOCHS):\n",
        "  list1[i] = i\n",
        "len(train_acc)"
      ],
      "execution_count": 0,
      "outputs": [
        {
          "output_type": "execute_result",
          "data": {
            "text/plain": [
              "50"
            ]
          },
          "metadata": {
            "tags": []
          },
          "execution_count": 52
        }
      ]
    },
    {
      "cell_type": "code",
      "metadata": {
        "id": "ZEL1hENH5Cgu",
        "colab_type": "code",
        "outputId": "6cbdb8ce-3fad-4ec5-ce1a-bf136ad1b299",
        "colab": {
          "base_uri": "https://localhost:8080/",
          "height": 265
        }
      },
      "source": [
        "plt.plot(list1, train_acc)\n",
        "plt.show()"
      ],
      "execution_count": 0,
      "outputs": [
        {
          "output_type": "display_data",
          "data": {
            "image/png": "[encoded data removed]",
            "text/plain": [
              "<Figure size 432x288 with 1 Axes>"
            ]
          },
          "metadata": {
            "tags": [],
            "needs_background": "light"
          }
        }
      ]
    },
    {
      "cell_type": "code",
      "metadata": {
        "id": "Voo50J6y5FHm",
        "colab_type": "code",
        "outputId": "a90a3c6a-95a6-4682-a964-d2d68d52ac07",
        "colab": {
          "base_uri": "https://localhost:8080/",
          "height": 269
        }
      },
      "source": [
        "plt.plot(list1, train_loss)\n",
        "plt.show()"
      ],
      "execution_count": 0,
      "outputs": [
        {
          "output_type": "display_data",
          "data": {
            "image/png": "[encoded data removed]",
            "text/plain": [
              "<Figure size 432x288 with 1 Axes>"
            ]
          },
          "metadata": {
            "tags": [],
            "needs_background": "light"
          }
        }
      ]
    }
  ]
}